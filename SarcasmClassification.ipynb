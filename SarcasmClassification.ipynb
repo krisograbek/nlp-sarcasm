{
  "cells": [
    {
      "cell_type": "markdown",
      "metadata": {
        "colab_type": "text",
        "id": "view-in-github"
      },
      "source": [
        "<a href=\"https://colab.research.google.com/github/krisograbek/nlp-sarcasm/blob/main/NLPTextClassification.ipynb\" target=\"_parent\"><img src=\"https://colab.research.google.com/assets/colab-badge.svg\" alt=\"Open In Colab\"/></a>"
      ]
    },
    {
      "cell_type": "markdown",
      "metadata": {
        "id": "cVZC1gdkpdao"
      },
      "source": [
        "## Introduction\n",
        "\n",
        "Main goal - NLP Project\n",
        "\n",
        "TODO:\n",
        "\n",
        "1. Getting the data\n",
        " - Read Data\n",
        " - Create a Data Frame\n",
        "2. Exploratory Data Analysis\n",
        " - Show missing values\n",
        " - Class Distribution\n",
        " - Character length (by class)\n",
        " - Number of words\n",
        " - Average word length\n",
        "3. Creating corpus for each class\n",
        " - common stopwords\n",
        " - punctuation\n",
        " - most common words\n",
        " - ngrams (most common)\n",
        "5. Splitting to train and test data\n",
        "6. Experimenting\n",
        "  Here's where I want to start experimenting. Different cleaning methods, n_grams, etc\n",
        " - Apply Comet\n",
        "7. Cleaning data. What do I want to clean? What should I?\n",
        "8. Splitting to 5 Stratified kfolds\n",
        "8. Creating Bag Of Words\n",
        "9. Creating TF-IDF\n"
      ]
    },
    {
      "cell_type": "markdown",
      "metadata": {
        "id": "CG5JU9xxpfsi"
      },
      "source": [
        "### Installs and imports"
      ]
    },
    {
      "cell_type": "markdown",
      "metadata": {
        "id": "59oCFE_HsyOe"
      },
      "source": [
        "## Imports"
      ]
    },
    {
      "cell_type": "code",
      "execution_count": 1,
      "metadata": {
        "id": "zzTFMkE9s0OE"
      },
      "outputs": [],
      "source": [
        "import matplotlib.pyplot as plt\n",
        "import seaborn as sns\n",
        "import numpy as np\n",
        "import pandas as pd\n",
        "\n",
        "sns.set()"
      ]
    },
    {
      "cell_type": "markdown",
      "metadata": {
        "id": "CUULiYVjo0ct"
      },
      "source": [
        "### Read Data"
      ]
    },
    {
      "cell_type": "code",
      "execution_count": 2,
      "metadata": {
        "id": "BDcsAGXkn4pS"
      },
      "outputs": [],
      "source": [
        "import json\n",
        "\n",
        "def parse_data(file):\n",
        "    for l in open(file,'r'):\n",
        "        yield json.loads(l)\n",
        "\n",
        "data = list(parse_data('../../datasets/Sarcasm_Headlines_Dataset_v2.json'))"
      ]
    },
    {
      "cell_type": "markdown",
      "metadata": {
        "id": "lRFKdX0yo2lY"
      },
      "source": [
        "### Create Data Frame"
      ]
    },
    {
      "cell_type": "code",
      "execution_count": 3,
      "metadata": {
        "id": "3wfBGTxkoBmg"
      },
      "outputs": [],
      "source": [
        "df = pd.DataFrame.from_records(data)"
      ]
    },
    {
      "cell_type": "markdown",
      "metadata": {
        "id": "17ocYiOMo9HQ"
      },
      "source": [
        "## Basic EDA"
      ]
    },
    {
      "cell_type": "code",
      "execution_count": 4,
      "metadata": {
        "colab": {
          "base_uri": "https://localhost:8080/",
          "height": 206
        },
        "id": "EoO4RMszoDgg",
        "outputId": "c8129101-2d16-48cc-efa9-02c3ae43592c"
      },
      "outputs": [
        {
          "data": {
            "text/html": [
              "<div>\n",
              "<style scoped>\n",
              "    .dataframe tbody tr th:only-of-type {\n",
              "        vertical-align: middle;\n",
              "    }\n",
              "\n",
              "    .dataframe tbody tr th {\n",
              "        vertical-align: top;\n",
              "    }\n",
              "\n",
              "    .dataframe thead th {\n",
              "        text-align: right;\n",
              "    }\n",
              "</style>\n",
              "<table border=\"1\" class=\"dataframe\">\n",
              "  <thead>\n",
              "    <tr style=\"text-align: right;\">\n",
              "      <th></th>\n",
              "      <th>is_sarcastic</th>\n",
              "      <th>headline</th>\n",
              "      <th>article_link</th>\n",
              "    </tr>\n",
              "  </thead>\n",
              "  <tbody>\n",
              "    <tr>\n",
              "      <th>0</th>\n",
              "      <td>1</td>\n",
              "      <td>thirtysomething scientists unveil doomsday clo...</td>\n",
              "      <td>https://www.theonion.com/thirtysomething-scien...</td>\n",
              "    </tr>\n",
              "    <tr>\n",
              "      <th>1</th>\n",
              "      <td>0</td>\n",
              "      <td>dem rep. totally nails why congress is falling...</td>\n",
              "      <td>https://www.huffingtonpost.com/entry/donna-edw...</td>\n",
              "    </tr>\n",
              "    <tr>\n",
              "      <th>2</th>\n",
              "      <td>0</td>\n",
              "      <td>eat your veggies: 9 deliciously different recipes</td>\n",
              "      <td>https://www.huffingtonpost.com/entry/eat-your-...</td>\n",
              "    </tr>\n",
              "    <tr>\n",
              "      <th>3</th>\n",
              "      <td>1</td>\n",
              "      <td>inclement weather prevents liar from getting t...</td>\n",
              "      <td>https://local.theonion.com/inclement-weather-p...</td>\n",
              "    </tr>\n",
              "    <tr>\n",
              "      <th>4</th>\n",
              "      <td>1</td>\n",
              "      <td>mother comes pretty close to using word 'strea...</td>\n",
              "      <td>https://www.theonion.com/mother-comes-pretty-c...</td>\n",
              "    </tr>\n",
              "  </tbody>\n",
              "</table>\n",
              "</div>"
            ],
            "text/plain": [
              "   is_sarcastic                                           headline  \\\n",
              "0             1  thirtysomething scientists unveil doomsday clo...   \n",
              "1             0  dem rep. totally nails why congress is falling...   \n",
              "2             0  eat your veggies: 9 deliciously different recipes   \n",
              "3             1  inclement weather prevents liar from getting t...   \n",
              "4             1  mother comes pretty close to using word 'strea...   \n",
              "\n",
              "                                        article_link  \n",
              "0  https://www.theonion.com/thirtysomething-scien...  \n",
              "1  https://www.huffingtonpost.com/entry/donna-edw...  \n",
              "2  https://www.huffingtonpost.com/entry/eat-your-...  \n",
              "3  https://local.theonion.com/inclement-weather-p...  \n",
              "4  https://www.theonion.com/mother-comes-pretty-c...  "
            ]
          },
          "execution_count": 4,
          "metadata": {},
          "output_type": "execute_result"
        }
      ],
      "source": [
        "df.head()"
      ]
    },
    {
      "cell_type": "code",
      "execution_count": 5,
      "metadata": {
        "colab": {
          "base_uri": "https://localhost:8080/"
        },
        "id": "i-BMuWcooc_Y",
        "outputId": "c2264373-d704-44d9-f447-b81d805aeb7c"
      },
      "outputs": [
        {
          "name": "stdout",
          "output_type": "stream",
          "text": [
            "<class 'pandas.core.frame.DataFrame'>\n",
            "RangeIndex: 28619 entries, 0 to 28618\n",
            "Data columns (total 3 columns):\n",
            " #   Column        Non-Null Count  Dtype \n",
            "---  ------        --------------  ----- \n",
            " 0   is_sarcastic  28619 non-null  int64 \n",
            " 1   headline      28619 non-null  object\n",
            " 2   article_link  28619 non-null  object\n",
            "dtypes: int64(1), object(2)\n",
            "memory usage: 670.9+ KB\n"
          ]
        }
      ],
      "source": [
        "df.info()"
      ]
    },
    {
      "cell_type": "markdown",
      "metadata": {
        "id": "t6zdtewbsroh"
      },
      "source": [
        "No missing values"
      ]
    },
    {
      "cell_type": "markdown",
      "metadata": {
        "id": "1-Xe5PfnsMFN"
      },
      "source": [
        "### Class distribution"
      ]
    },
    {
      "cell_type": "code",
      "execution_count": 6,
      "metadata": {
        "colab": {
          "base_uri": "https://localhost:8080/"
        },
        "id": "LRqB-d2SofJO",
        "outputId": "821b80aa-07b6-43b7-871c-4d8bd7e5b009"
      },
      "outputs": [
        {
          "name": "stdout",
          "output_type": "stream",
          "text": [
            "Totals\n",
            "Not sarcastic: 14985\n",
            "Sarcastic: 13634\n",
            "Percentage\n",
            "Not sarcastic: 0.523603200670883\n",
            "Sarcastic: 0.476396799329117\n"
          ]
        }
      ],
      "source": [
        "dist = df.is_sarcastic.value_counts()\n",
        "print(f\"Totals\")\n",
        "print(f\"Not sarcastic: {dist[0]}\")\n",
        "print(f\"Sarcastic: {dist[1]}\")\n",
        "\n",
        "dist_norm = df.is_sarcastic.value_counts(normalize=True)\n",
        "print(f\"Percentage\")\n",
        "print(f\"Not sarcastic: {dist_norm[0]}\")\n",
        "print(f\"Sarcastic: {dist_norm[1]}\")"
      ]
    },
    {
      "cell_type": "code",
      "execution_count": 7,
      "metadata": {
        "colab": {
          "base_uri": "https://localhost:8080/",
          "height": 286
        },
        "id": "GvB5pGuUpG6F",
        "outputId": "f3cf46a2-283a-466f-e2f5-ccbd39d05a2a"
      },
      "outputs": [
        {
          "data": {
            "text/plain": [
              "Text(0, 0.5, 'samples')"
            ]
          },
          "execution_count": 7,
          "metadata": {},
          "output_type": "execute_result"
        },
        {
          "data": {
            "image/png": "[encoded data removed]",
            "text/plain": [
              "<Figure size 432x288 with 1 Axes>"
            ]
          },
          "metadata": {},
          "output_type": "display_data"
        }
      ],
      "source": [
        "x = df.is_sarcastic.value_counts()\n",
        "sns.barplot(x = x.index,y = x)\n",
        "plt.gca().set_ylabel('samples')"
      ]
    },
    {
      "cell_type": "markdown",
      "metadata": {
        "id": "DuGJhJp7vXff"
      },
      "source": [
        "### Number of characters"
      ]
    },
    {
      "cell_type": "code",
      "execution_count": 8,
      "metadata": {
        "colab": {
          "base_uri": "https://localhost:8080/",
          "height": 206
        },
        "id": "-bqbLPtExPTI",
        "outputId": "2348fd73-6a16-4510-f549-12345ad7ee3a"
      },
      "outputs": [
        {
          "data": {
            "text/html": [
              "<div>\n",
              "<style scoped>\n",
              "    .dataframe tbody tr th:only-of-type {\n",
              "        vertical-align: middle;\n",
              "    }\n",
              "\n",
              "    .dataframe tbody tr th {\n",
              "        vertical-align: top;\n",
              "    }\n",
              "\n",
              "    .dataframe thead th {\n",
              "        text-align: right;\n",
              "    }\n",
              "</style>\n",
              "<table border=\"1\" class=\"dataframe\">\n",
              "  <thead>\n",
              "    <tr style=\"text-align: right;\">\n",
              "      <th></th>\n",
              "      <th>is_sarcastic</th>\n",
              "      <th>headline</th>\n",
              "      <th>article_link</th>\n",
              "      <th>char_len</th>\n",
              "    </tr>\n",
              "  </thead>\n",
              "  <tbody>\n",
              "    <tr>\n",
              "      <th>0</th>\n",
              "      <td>1</td>\n",
              "      <td>thirtysomething scientists unveil doomsday clo...</td>\n",
              "      <td>https://www.theonion.com/thirtysomething-scien...</td>\n",
              "      <td>61</td>\n",
              "    </tr>\n",
              "    <tr>\n",
              "      <th>1</th>\n",
              "      <td>0</td>\n",
              "      <td>dem rep. totally nails why congress is falling...</td>\n",
              "      <td>https://www.huffingtonpost.com/entry/donna-edw...</td>\n",
              "      <td>79</td>\n",
              "    </tr>\n",
              "    <tr>\n",
              "      <th>2</th>\n",
              "      <td>0</td>\n",
              "      <td>eat your veggies: 9 deliciously different recipes</td>\n",
              "      <td>https://www.huffingtonpost.com/entry/eat-your-...</td>\n",
              "      <td>49</td>\n",
              "    </tr>\n",
              "    <tr>\n",
              "      <th>3</th>\n",
              "      <td>1</td>\n",
              "      <td>inclement weather prevents liar from getting t...</td>\n",
              "      <td>https://local.theonion.com/inclement-weather-p...</td>\n",
              "      <td>52</td>\n",
              "    </tr>\n",
              "    <tr>\n",
              "      <th>4</th>\n",
              "      <td>1</td>\n",
              "      <td>mother comes pretty close to using word 'strea...</td>\n",
              "      <td>https://www.theonion.com/mother-comes-pretty-c...</td>\n",
              "      <td>61</td>\n",
              "    </tr>\n",
              "  </tbody>\n",
              "</table>\n",
              "</div>"
            ],
            "text/plain": [
              "   is_sarcastic                                           headline  \\\n",
              "0             1  thirtysomething scientists unveil doomsday clo...   \n",
              "1             0  dem rep. totally nails why congress is falling...   \n",
              "2             0  eat your veggies: 9 deliciously different recipes   \n",
              "3             1  inclement weather prevents liar from getting t...   \n",
              "4             1  mother comes pretty close to using word 'strea...   \n",
              "\n",
              "                                        article_link  char_len  \n",
              "0  https://www.theonion.com/thirtysomething-scien...        61  \n",
              "1  https://www.huffingtonpost.com/entry/donna-edw...        79  \n",
              "2  https://www.huffingtonpost.com/entry/eat-your-...        49  \n",
              "3  https://local.theonion.com/inclement-weather-p...        52  \n",
              "4  https://www.theonion.com/mother-comes-pretty-c...        61  "
            ]
          },
          "execution_count": 8,
          "metadata": {},
          "output_type": "execute_result"
        }
      ],
      "source": [
        "df.loc[:, \"char_len\"] = df.headline.apply(lambda x: len(x))\n",
        "df.head()"
      ]
    },
    {
      "cell_type": "code",
      "execution_count": 9,
      "metadata": {
        "id": "GuLfIP9bxcCw"
      },
      "outputs": [],
      "source": [
        "sarc = df[df.is_sarcastic == 1]\n",
        "no_sarc = df[df.is_sarcastic == 0]"
      ]
    },
    {
      "cell_type": "code",
      "execution_count": 10,
      "metadata": {
        "id": "_vm42SL1vI34"
      },
      "outputs": [],
      "source": [
        "def plot_hists(data, col_name, bins):\n",
        "    # selecting a palette with a generator\n",
        "    palette = iter(sns.husl_palette(3, s=0.8))\n",
        "    fig, (ax1, ax2, ax3) = plt.subplots(1, 3, figsize=(15, 6))\n",
        "    ax1.hist(data[col_name], color=next(palette), bins=bins);\n",
        "    ax1.set_title(\"All headlines\")\n",
        "\n",
        "    ax2.hist(data[data.is_sarcastic == 0][col_name], color=next(palette), bins=bins);\n",
        "    ax2.set_title(\"Not sarcastic\")\n",
        "\n",
        "    ax3.hist(data[data.is_sarcastic == 1][col_name], color=next(palette), bins=bins);\n",
        "    ax3.set_title(\"Sarcastic\")\n",
        "\n",
        "def plot_displots(data, col_name):\n",
        "    # selecting a palette with a generator\n",
        "    palette = iter(sns.husl_palette(3, s=0.8))\n",
        "    fig, (ax1, ax2, ax3) = plt.subplots(1, 3, figsize=(15, 6))\n",
        "    sns.histplot(data=data[col_name], ax=ax1, color=next(palette), kde=True);\n",
        "    ax1.set_title(\"All headlines\")\n",
        "\n",
        "    sns.histplot(data=data[data.is_sarcastic == 0][col_name], ax=ax2, color=next(palette), kde=True);\n",
        "    ax2.set_title(\"Not sarcastic\")\n",
        "\n",
        "    sns.histplot(data=data[data.is_sarcastic == 1][col_name], ax=ax3, color=next(palette), kde=True);\n",
        "    ax3.set_title(\"Sarcastic\")"
      ]
    },
    {
      "cell_type": "code",
      "execution_count": 11,
      "metadata": {
        "colab": {
          "base_uri": "https://localhost:8080/",
          "height": 393
        },
        "id": "0aoIhYcXvs_I",
        "outputId": "e7d215dc-37e9-4b7e-f634-537d37f1624b"
      },
      "outputs": [
        {
          "data": {
            "image/png": "[encoded data removed]",
            "text/plain": [
              "<Figure size 1080x432 with 3 Axes>"
            ]
          },
          "metadata": {},
          "output_type": "display_data"
        }
      ],
      "source": [
        "chars_bins = np.linspace(0, 200, 9)\n",
        "\n",
        "plot_hists(df, \"char_len\", chars_bins)"
      ]
    },
    {
      "cell_type": "code",
      "execution_count": 12,
      "metadata": {
        "colab": {
          "base_uri": "https://localhost:8080/"
        },
        "id": "ilEFixyUvllU",
        "outputId": "f080c2fb-0361-450b-eb02-58564404c098"
      },
      "outputs": [
        {
          "data": {
            "text/plain": [
              "(50.0, 100.0]       19622\n",
              "(-0.001, 50.0]       7990\n",
              "(100.0, 150.0]        993\n",
              "(150.0, 200.0]          8\n",
              "(200.0, 10000.0]        6\n",
              "Name: char_len, dtype: int64"
            ]
          },
          "execution_count": 12,
          "metadata": {},
          "output_type": "execute_result"
        }
      ],
      "source": [
        "df.char_len.value_counts(bins=[0, 50, 100, 150, 200, 10000])"
      ]
    },
    {
      "cell_type": "code",
      "execution_count": 13,
      "metadata": {
        "colab": {
          "base_uri": "https://localhost:8080/"
        },
        "id": "D1IdRiGTz1N1",
        "outputId": "898c866a-b5d2-4cda-a83e-e53cd0cea48e"
      },
      "outputs": [
        {
          "data": {
            "text/plain": [
              "(50.0, 75.0]        8267\n",
              "(-0.001, 50.0]      4256\n",
              "(75.0, 100.0]       2356\n",
              "(100.0, 150.0]       103\n",
              "(150.0, 200.0]         2\n",
              "(200.0, 10000.0]       1\n",
              "Name: char_len, dtype: int64"
            ]
          },
          "execution_count": 13,
          "metadata": {},
          "output_type": "execute_result"
        }
      ],
      "source": [
        "# Not sarcastic\n",
        "no_sarc.char_len.value_counts(bins=[0, 50, 75, 100, 150, 200, 10000])"
      ]
    },
    {
      "cell_type": "code",
      "execution_count": 14,
      "metadata": {
        "colab": {
          "base_uri": "https://localhost:8080/"
        },
        "id": "foR63Aky42Rs",
        "outputId": "60c1f4da-d448-443f-dcda-de4739621ff3"
      },
      "outputs": [
        {
          "data": {
            "text/plain": [
              "(50.0, 75.0]        0.551685\n",
              "(-0.001, 50.0]      0.284017\n",
              "(75.0, 100.0]       0.157224\n",
              "(100.0, 150.0]      0.006874\n",
              "(150.0, 200.0]      0.000133\n",
              "(200.0, 10000.0]    0.000067\n",
              "Name: char_len, dtype: float64"
            ]
          },
          "execution_count": 14,
          "metadata": {},
          "output_type": "execute_result"
        }
      ],
      "source": [
        "# Not sarcastic\n",
        "no_sarc.char_len.value_counts(bins=[0, 50, 75, 100, 150, 200, 10000], normalize=True)"
      ]
    },
    {
      "cell_type": "code",
      "execution_count": 15,
      "metadata": {
        "colab": {
          "base_uri": "https://localhost:8080/"
        },
        "id": "9dMeXCBw486w",
        "outputId": "d8c97ae2-2be1-4340-ac72-dc0489318d37"
      },
      "outputs": [
        {
          "data": {
            "text/plain": [
              "(-0.001, 100.0]    0.992926\n",
              "(100.0, 1000.0]    0.007074\n",
              "Name: char_len, dtype: float64"
            ]
          },
          "execution_count": 15,
          "metadata": {},
          "output_type": "execute_result"
        }
      ],
      "source": [
        "# Not sarcastic\n",
        "no_sarc.char_len.value_counts(bins=[0, 100, 1000 ], normalize=True)"
      ]
    },
    {
      "cell_type": "markdown",
      "metadata": {
        "id": "QG-Hz9fUtpVC"
      },
      "source": [
        "Only 0.7% of not sarcastic headlines have more than 100 characters"
      ]
    },
    {
      "cell_type": "code",
      "execution_count": 16,
      "metadata": {
        "colab": {
          "base_uri": "https://localhost:8080/"
        },
        "id": "FIs-hvNA0DS6",
        "outputId": "df2253db-0247-4107-d041-acd0be5616cd"
      },
      "outputs": [
        {
          "data": {
            "text/plain": [
              "(50.0, 75.0]        5658\n",
              "(-0.001, 50.0]      3734\n",
              "(75.0, 100.0]       3341\n",
              "(100.0, 150.0]       890\n",
              "(150.0, 200.0]         6\n",
              "(200.0, 10000.0]       5\n",
              "Name: char_len, dtype: int64"
            ]
          },
          "execution_count": 16,
          "metadata": {},
          "output_type": "execute_result"
        }
      ],
      "source": [
        "# Sarcastic\n",
        "sarc.char_len.value_counts(bins=[0, 50, 75, 100, 150, 200, 10000])"
      ]
    },
    {
      "cell_type": "code",
      "execution_count": 17,
      "metadata": {
        "colab": {
          "base_uri": "https://localhost:8080/"
        },
        "id": "W2rPgx1atgu4",
        "outputId": "8473613b-a16b-431a-e6b0-8fb7a3317c9d"
      },
      "outputs": [
        {
          "data": {
            "text/plain": [
              "(50.0, 75.0]        0.414992\n",
              "(-0.001, 50.0]      0.273874\n",
              "(75.0, 100.0]       0.245049\n",
              "(100.0, 150.0]      0.065278\n",
              "(150.0, 200.0]      0.000440\n",
              "(200.0, 10000.0]    0.000367\n",
              "Name: char_len, dtype: float64"
            ]
          },
          "execution_count": 17,
          "metadata": {},
          "output_type": "execute_result"
        }
      ],
      "source": [
        "# Sarcastic\n",
        "sarc.char_len.value_counts(bins=[0, 50, 75, 100, 150, 200, 10000], normalize=True)"
      ]
    },
    {
      "cell_type": "code",
      "execution_count": 18,
      "metadata": {
        "colab": {
          "base_uri": "https://localhost:8080/"
        },
        "id": "njllVjJu5c8u",
        "outputId": "8676bc07-dd89-45b8-f02e-4b9ca2b1ea46"
      },
      "outputs": [
        {
          "data": {
            "text/plain": [
              "(-0.001, 100.0]    0.933915\n",
              "(100.0, 1000.0]    0.066085\n",
              "Name: char_len, dtype: float64"
            ]
          },
          "execution_count": 18,
          "metadata": {},
          "output_type": "execute_result"
        }
      ],
      "source": [
        "# Sarcastic\n",
        "sarc.char_len.value_counts(bins=[0, 100, 1000 ], normalize=True)"
      ]
    },
    {
      "cell_type": "markdown",
      "metadata": {
        "id": "02Iz8ZEat00I"
      },
      "source": [
        "Over 6.6% of sarcastic headlines have more than 100 characters"
      ]
    },
    {
      "cell_type": "code",
      "execution_count": 19,
      "metadata": {
        "id": "wcwx3QB552m1"
      },
      "outputs": [],
      "source": [
        "# All\n",
        "# df.char_len.value_counts().loc[lambda x: x>200]"
      ]
    },
    {
      "cell_type": "code",
      "execution_count": 20,
      "metadata": {
        "id": "uaY9CyJmywlM"
      },
      "outputs": [],
      "source": [
        "# df = df.loc[df.char_len < 200]\n",
        "# df.char_len.value_counts(bins=[0, 50, 100, 150, 200, 10000])"
      ]
    },
    {
      "cell_type": "markdown",
      "metadata": {
        "id": "4dQ_rKRDu_ew"
      },
      "source": [
        "### Number of words in a tweet"
      ]
    },
    {
      "cell_type": "code",
      "execution_count": 21,
      "metadata": {
        "colab": {
          "base_uri": "https://localhost:8080/",
          "height": 206
        },
        "id": "4bQ-lf_VyYOv",
        "outputId": "6e20e689-c7aa-476f-9482-37a106bcf305"
      },
      "outputs": [
        {
          "data": {
            "text/html": [
              "<div>\n",
              "<style scoped>\n",
              "    .dataframe tbody tr th:only-of-type {\n",
              "        vertical-align: middle;\n",
              "    }\n",
              "\n",
              "    .dataframe tbody tr th {\n",
              "        vertical-align: top;\n",
              "    }\n",
              "\n",
              "    .dataframe thead th {\n",
              "        text-align: right;\n",
              "    }\n",
              "</style>\n",
              "<table border=\"1\" class=\"dataframe\">\n",
              "  <thead>\n",
              "    <tr style=\"text-align: right;\">\n",
              "      <th></th>\n",
              "      <th>is_sarcastic</th>\n",
              "      <th>headline</th>\n",
              "      <th>article_link</th>\n",
              "      <th>char_len</th>\n",
              "      <th>tokens_count</th>\n",
              "    </tr>\n",
              "  </thead>\n",
              "  <tbody>\n",
              "    <tr>\n",
              "      <th>0</th>\n",
              "      <td>1</td>\n",
              "      <td>thirtysomething scientists unveil doomsday clo...</td>\n",
              "      <td>https://www.theonion.com/thirtysomething-scien...</td>\n",
              "      <td>61</td>\n",
              "      <td>8</td>\n",
              "    </tr>\n",
              "    <tr>\n",
              "      <th>1</th>\n",
              "      <td>0</td>\n",
              "      <td>dem rep. totally nails why congress is falling...</td>\n",
              "      <td>https://www.huffingtonpost.com/entry/donna-edw...</td>\n",
              "      <td>79</td>\n",
              "      <td>13</td>\n",
              "    </tr>\n",
              "    <tr>\n",
              "      <th>2</th>\n",
              "      <td>0</td>\n",
              "      <td>eat your veggies: 9 deliciously different recipes</td>\n",
              "      <td>https://www.huffingtonpost.com/entry/eat-your-...</td>\n",
              "      <td>49</td>\n",
              "      <td>7</td>\n",
              "    </tr>\n",
              "    <tr>\n",
              "      <th>3</th>\n",
              "      <td>1</td>\n",
              "      <td>inclement weather prevents liar from getting t...</td>\n",
              "      <td>https://local.theonion.com/inclement-weather-p...</td>\n",
              "      <td>52</td>\n",
              "      <td>8</td>\n",
              "    </tr>\n",
              "    <tr>\n",
              "      <th>4</th>\n",
              "      <td>1</td>\n",
              "      <td>mother comes pretty close to using word 'strea...</td>\n",
              "      <td>https://www.theonion.com/mother-comes-pretty-c...</td>\n",
              "      <td>61</td>\n",
              "      <td>9</td>\n",
              "    </tr>\n",
              "  </tbody>\n",
              "</table>\n",
              "</div>"
            ],
            "text/plain": [
              "   is_sarcastic                                           headline  \\\n",
              "0             1  thirtysomething scientists unveil doomsday clo...   \n",
              "1             0  dem rep. totally nails why congress is falling...   \n",
              "2             0  eat your veggies: 9 deliciously different recipes   \n",
              "3             1  inclement weather prevents liar from getting t...   \n",
              "4             1  mother comes pretty close to using word 'strea...   \n",
              "\n",
              "                                        article_link  char_len  tokens_count  \n",
              "0  https://www.theonion.com/thirtysomething-scien...        61             8  \n",
              "1  https://www.huffingtonpost.com/entry/donna-edw...        79            13  \n",
              "2  https://www.huffingtonpost.com/entry/eat-your-...        49             7  \n",
              "3  https://local.theonion.com/inclement-weather-p...        52             8  \n",
              "4  https://www.theonion.com/mother-comes-pretty-c...        61             9  "
            ]
          },
          "execution_count": 21,
          "metadata": {},
          "output_type": "execute_result"
        }
      ],
      "source": [
        "df.loc[:, \"tokens_count\"] = df.headline.apply(lambda x: len([token for token in x.split()]))\n",
        "df.head()"
      ]
    },
    {
      "cell_type": "code",
      "execution_count": 22,
      "metadata": {
        "colab": {
          "base_uri": "https://localhost:8080/",
          "height": 393
        },
        "id": "9YXb8ijzwHdv",
        "outputId": "5081246d-e393-4a73-c9ee-e9600acb06f6"
      },
      "outputs": [
        {
          "data": {
            "image/png": "[encoded data removed]",
            "text/plain": [
              "<Figure size 1080x432 with 3 Axes>"
            ]
          },
          "metadata": {},
          "output_type": "display_data"
        }
      ],
      "source": [
        "tokens_bins = np.linspace(0, 20, 21)\n",
        "plot_hists(df, \"tokens_count\", tokens_bins)"
      ]
    },
    {
      "cell_type": "markdown",
      "metadata": {
        "id": "gCACejMDxDNU"
      },
      "source": [
        "Both classes are normally distributed. Sarcastic headlines' distribution is wider [How can I describe this better / more]"
      ]
    },
    {
      "cell_type": "code",
      "execution_count": 23,
      "metadata": {
        "colab": {
          "base_uri": "https://localhost:8080/"
        },
        "id": "y1XFus9v2d2L",
        "outputId": "b7be730d-5200-4767-9419-4eeac676f5a3"
      },
      "outputs": [
        {
          "data": {
            "text/plain": [
              "(8.0, 10.0]      7063\n",
              "(10.0, 12.0]     6237\n",
              "(6.0, 8.0]       5339\n",
              "(12.0, 14.0]     3575\n",
              "(4.0, 6.0]       2926\n",
              "(14.0, 16.0]     1547\n",
              "(2.0, 4.0]        897\n",
              "(16.0, 18.0]      611\n",
              "(18.0, 20.0]      206\n",
              "(-0.001, 2.0]     118\n",
              "Name: tokens_count, dtype: int64"
            ]
          },
          "execution_count": 23,
          "metadata": {},
          "output_type": "execute_result"
        }
      ],
      "source": [
        "token_count_bins = np.linspace(0, 20, 11)\n",
        "df.tokens_count.value_counts(bins=token_count_bins)"
      ]
    },
    {
      "cell_type": "code",
      "execution_count": 25,
      "metadata": {},
      "outputs": [],
      "source": [
        "sarc = df[df.is_sarcastic == 1]\n",
        "no_sarc = df[df.is_sarcastic == 0]"
      ]
    },
    {
      "cell_type": "code",
      "execution_count": 26,
      "metadata": {
        "colab": {
          "base_uri": "https://localhost:8080/"
        },
        "id": "q8hpY0Hwwbnx",
        "outputId": "cf08ff4b-f00e-495c-f622-f6a27d96a296"
      },
      "outputs": [
        {
          "data": {
            "text/plain": [
              "(8.0, 10.0]      4215\n",
              "(10.0, 12.0]     3732\n",
              "(6.0, 8.0]       2704\n",
              "(12.0, 14.0]     1769\n",
              "(4.0, 6.0]       1331\n",
              "(2.0, 4.0]        498\n",
              "(14.0, 16.0]      497\n",
              "(16.0, 18.0]      120\n",
              "(-0.001, 2.0]      73\n",
              "(18.0, 20.0]       28\n",
              "Name: tokens_count, dtype: int64"
            ]
          },
          "execution_count": 26,
          "metadata": {},
          "output_type": "execute_result"
        }
      ],
      "source": [
        "no_sarc.tokens_count.value_counts(bins=token_count_bins)"
      ]
    },
    {
      "cell_type": "code",
      "execution_count": 27,
      "metadata": {
        "colab": {
          "base_uri": "https://localhost:8080/"
        },
        "id": "rsaEP9l13Htk",
        "outputId": "35d2b8e5-dc23-4c37-836e-02d42153ee83"
      },
      "outputs": [
        {
          "data": {
            "text/plain": [
              "(8.0, 10.0]      0.281281\n",
              "(10.0, 12.0]     0.249049\n",
              "(6.0, 8.0]       0.180447\n",
              "(12.0, 14.0]     0.118051\n",
              "(4.0, 6.0]       0.088822\n",
              "(2.0, 4.0]       0.033233\n",
              "(14.0, 16.0]     0.033166\n",
              "(16.0, 18.0]     0.008008\n",
              "(-0.001, 2.0]    0.004872\n",
              "(18.0, 20.0]     0.001869\n",
              "Name: tokens_count, dtype: float64"
            ]
          },
          "execution_count": 27,
          "metadata": {},
          "output_type": "execute_result"
        }
      ],
      "source": [
        "no_sarc.tokens_count.value_counts(bins=token_count_bins, normalize=True)"
      ]
    },
    {
      "cell_type": "code",
      "execution_count": 28,
      "metadata": {
        "colab": {
          "base_uri": "https://localhost:8080/"
        },
        "id": "QS7dQ21y3VlU",
        "outputId": "a6046014-8b41-4df0-81be-578edaf2f185"
      },
      "outputs": [
        {
          "data": {
            "text/plain": [
              "(8.0, 12.0]      0.530330\n",
              "(4.0, 8.0]       0.269269\n",
              "(12.0, 16.0]     0.151218\n",
              "(-0.001, 4.0]    0.038105\n",
              "(16.0, 20.0]     0.009877\n",
              "Name: tokens_count, dtype: float64"
            ]
          },
          "execution_count": 28,
          "metadata": {},
          "output_type": "execute_result"
        }
      ],
      "source": [
        "no_sarc.tokens_count.value_counts(bins=np.linspace(0, 20, 6), normalize=True)"
      ]
    },
    {
      "cell_type": "code",
      "execution_count": 29,
      "metadata": {
        "colab": {
          "base_uri": "https://localhost:8080/"
        },
        "id": "TRnxsHYy3lf9",
        "outputId": "1268ddb5-1177-410e-a8cc-2e70d990a9b9"
      },
      "outputs": [
        {
          "data": {
            "text/plain": [
              "(8.0, 10.0]      2848\n",
              "(6.0, 8.0]       2635\n",
              "(10.0, 12.0]     2505\n",
              "(12.0, 14.0]     1806\n",
              "(4.0, 6.0]       1595\n",
              "(14.0, 16.0]     1050\n",
              "(16.0, 18.0]      491\n",
              "(2.0, 4.0]        399\n",
              "(18.0, 20.0]      178\n",
              "(-0.001, 2.0]      45\n",
              "Name: tokens_count, dtype: int64"
            ]
          },
          "execution_count": 29,
          "metadata": {},
          "output_type": "execute_result"
        }
      ],
      "source": [
        "sarc.tokens_count.value_counts(bins=token_count_bins)"
      ]
    },
    {
      "cell_type": "code",
      "execution_count": 30,
      "metadata": {
        "colab": {
          "base_uri": "https://localhost:8080/"
        },
        "id": "1kvQHHyi3gMG",
        "outputId": "9c5671e6-1a0d-4c0d-d733-6584d643b176"
      },
      "outputs": [
        {
          "data": {
            "text/plain": [
              "(8.0, 10.0]      0.208890\n",
              "(6.0, 8.0]       0.193267\n",
              "(10.0, 12.0]     0.183732\n",
              "(12.0, 14.0]     0.132463\n",
              "(4.0, 6.0]       0.116987\n",
              "(14.0, 16.0]     0.077013\n",
              "(16.0, 18.0]     0.036013\n",
              "(2.0, 4.0]       0.029265\n",
              "(18.0, 20.0]     0.013056\n",
              "(-0.001, 2.0]    0.003301\n",
              "Name: tokens_count, dtype: float64"
            ]
          },
          "execution_count": 30,
          "metadata": {},
          "output_type": "execute_result"
        }
      ],
      "source": [
        "sarc.tokens_count.value_counts(bins=token_count_bins, normalize=True)"
      ]
    },
    {
      "cell_type": "code",
      "execution_count": 31,
      "metadata": {
        "colab": {
          "base_uri": "https://localhost:8080/"
        },
        "id": "Ur6-odmG3OHD",
        "outputId": "2c72c15a-22f4-4bc5-8f7c-3974114726bc"
      },
      "outputs": [
        {
          "data": {
            "text/plain": [
              "(8.0, 12.0]      0.392621\n",
              "(4.0, 8.0]       0.310254\n",
              "(12.0, 16.0]     0.209476\n",
              "(16.0, 20.0]     0.049069\n",
              "(-0.001, 4.0]    0.032566\n",
              "Name: tokens_count, dtype: float64"
            ]
          },
          "execution_count": 31,
          "metadata": {},
          "output_type": "execute_result"
        }
      ],
      "source": [
        "sarc.tokens_count.value_counts(bins=np.linspace(0, 20, 6), normalize=True)"
      ]
    },
    {
      "cell_type": "markdown",
      "metadata": {
        "id": "4M0chL6A3xmm"
      },
      "source": [
        "Over 53% of all not sarcastic headlines has between 8 and 12 words. For sarcastic headlines this number is less than 40%"
      ]
    },
    {
      "cell_type": "markdown",
      "metadata": {
        "id": "dbwvwKxa4EFH"
      },
      "source": [
        "### Average word length"
      ]
    },
    {
      "cell_type": "code",
      "execution_count": 32,
      "metadata": {
        "id": "rpNSoqVh3n7l"
      },
      "outputs": [],
      "source": [
        "def get_avg_len(text):\n",
        "    token_sizes = [len(word) for word in text.split()]\n",
        "    return np.mean(np.array(token_sizes))\n"
      ]
    },
    {
      "cell_type": "code",
      "execution_count": 33,
      "metadata": {
        "id": "Wp35aTl94eso"
      },
      "outputs": [],
      "source": [
        "df.loc[:, \"avg_word_len\"] = df.headline.apply(get_avg_len)"
      ]
    },
    {
      "cell_type": "code",
      "execution_count": 34,
      "metadata": {
        "colab": {
          "base_uri": "https://localhost:8080/",
          "height": 250
        },
        "id": "wQnzJACX4krY",
        "outputId": "6f5e1044-f671-4741-b3f3-a2a397c9502d"
      },
      "outputs": [
        {
          "data": {
            "text/html": [
              "<div>\n",
              "<style scoped>\n",
              "    .dataframe tbody tr th:only-of-type {\n",
              "        vertical-align: middle;\n",
              "    }\n",
              "\n",
              "    .dataframe tbody tr th {\n",
              "        vertical-align: top;\n",
              "    }\n",
              "\n",
              "    .dataframe thead th {\n",
              "        text-align: right;\n",
              "    }\n",
              "</style>\n",
              "<table border=\"1\" class=\"dataframe\">\n",
              "  <thead>\n",
              "    <tr style=\"text-align: right;\">\n",
              "      <th></th>\n",
              "      <th>is_sarcastic</th>\n",
              "      <th>headline</th>\n",
              "      <th>article_link</th>\n",
              "      <th>char_len</th>\n",
              "      <th>tokens_count</th>\n",
              "      <th>avg_word_len</th>\n",
              "    </tr>\n",
              "  </thead>\n",
              "  <tbody>\n",
              "    <tr>\n",
              "      <th>0</th>\n",
              "      <td>1</td>\n",
              "      <td>thirtysomething scientists unveil doomsday clo...</td>\n",
              "      <td>https://www.theonion.com/thirtysomething-scien...</td>\n",
              "      <td>61</td>\n",
              "      <td>8</td>\n",
              "      <td>6.750000</td>\n",
              "    </tr>\n",
              "    <tr>\n",
              "      <th>1</th>\n",
              "      <td>0</td>\n",
              "      <td>dem rep. totally nails why congress is falling...</td>\n",
              "      <td>https://www.huffingtonpost.com/entry/donna-edw...</td>\n",
              "      <td>79</td>\n",
              "      <td>13</td>\n",
              "      <td>5.153846</td>\n",
              "    </tr>\n",
              "    <tr>\n",
              "      <th>2</th>\n",
              "      <td>0</td>\n",
              "      <td>eat your veggies: 9 deliciously different recipes</td>\n",
              "      <td>https://www.huffingtonpost.com/entry/eat-your-...</td>\n",
              "      <td>49</td>\n",
              "      <td>7</td>\n",
              "      <td>6.142857</td>\n",
              "    </tr>\n",
              "    <tr>\n",
              "      <th>3</th>\n",
              "      <td>1</td>\n",
              "      <td>inclement weather prevents liar from getting t...</td>\n",
              "      <td>https://local.theonion.com/inclement-weather-p...</td>\n",
              "      <td>52</td>\n",
              "      <td>8</td>\n",
              "      <td>5.625000</td>\n",
              "    </tr>\n",
              "    <tr>\n",
              "      <th>4</th>\n",
              "      <td>1</td>\n",
              "      <td>mother comes pretty close to using word 'strea...</td>\n",
              "      <td>https://www.theonion.com/mother-comes-pretty-c...</td>\n",
              "      <td>61</td>\n",
              "      <td>9</td>\n",
              "      <td>5.888889</td>\n",
              "    </tr>\n",
              "  </tbody>\n",
              "</table>\n",
              "</div>"
            ],
            "text/plain": [
              "   is_sarcastic                                           headline  \\\n",
              "0             1  thirtysomething scientists unveil doomsday clo...   \n",
              "1             0  dem rep. totally nails why congress is falling...   \n",
              "2             0  eat your veggies: 9 deliciously different recipes   \n",
              "3             1  inclement weather prevents liar from getting t...   \n",
              "4             1  mother comes pretty close to using word 'strea...   \n",
              "\n",
              "                                        article_link  char_len  tokens_count  \\\n",
              "0  https://www.theonion.com/thirtysomething-scien...        61             8   \n",
              "1  https://www.huffingtonpost.com/entry/donna-edw...        79            13   \n",
              "2  https://www.huffingtonpost.com/entry/eat-your-...        49             7   \n",
              "3  https://local.theonion.com/inclement-weather-p...        52             8   \n",
              "4  https://www.theonion.com/mother-comes-pretty-c...        61             9   \n",
              "\n",
              "   avg_word_len  \n",
              "0      6.750000  \n",
              "1      5.153846  \n",
              "2      6.142857  \n",
              "3      5.625000  \n",
              "4      5.888889  "
            ]
          },
          "execution_count": 34,
          "metadata": {},
          "output_type": "execute_result"
        }
      ],
      "source": [
        "df.head()"
      ]
    },
    {
      "cell_type": "code",
      "execution_count": 35,
      "metadata": {
        "colab": {
          "base_uri": "https://localhost:8080/",
          "height": 393
        },
        "id": "IekPCbnA5Gx6",
        "outputId": "09722053-87b8-40a9-d1cc-e1bf4acd0f9e"
      },
      "outputs": [
        {
          "data": {
            "image/png": "[encoded data removed]",
            "text/plain": [
              "<Figure size 1080x432 with 3 Axes>"
            ]
          },
          "metadata": {},
          "output_type": "display_data"
        }
      ],
      "source": [
        "avg_len_bins = np.linspace(0, 10, 11)\n",
        "plot_hists(df, \"avg_word_len\", avg_len_bins)"
      ]
    },
    {
      "cell_type": "code",
      "execution_count": 36,
      "metadata": {
        "colab": {
          "base_uri": "https://localhost:8080/",
          "height": 410
        },
        "id": "ERcBUjlZ7KnA",
        "outputId": "3eb67901-4f66-4203-d269-89ba25d8c51c"
      },
      "outputs": [
        {
          "data": {
            "image/png": "[encoded data removed]",
            "text/plain": [
              "<Figure size 1080x432 with 3 Axes>"
            ]
          },
          "metadata": {},
          "output_type": "display_data"
        }
      ],
      "source": [
        "plot_displots(df, \"avg_word_len\")"
      ]
    },
    {
      "cell_type": "markdown",
      "metadata": {
        "id": "J-wN04oA5sUc"
      },
      "source": [
        "It's more likely that a sarcastic headline has an average word lenght longer higher than 6"
      ]
    },
    {
      "cell_type": "markdown",
      "metadata": {
        "id": "lhuBH3fRA4EA"
      },
      "source": [
        "## Corpus analysis\n",
        "\n",
        " - common stopwords\n",
        " - common punctuation\n",
        " - common words\n",
        " - common ngrams\n"
      ]
    },
    {
      "cell_type": "markdown",
      "metadata": {
        "id": "NBGvQin0BHld"
      },
      "source": [
        "## Training"
      ]
    },
    {
      "cell_type": "markdown",
      "metadata": {
        "id": "hwYHCengBKOu"
      },
      "source": [
        "### Bag Of Words"
      ]
    },
    {
      "cell_type": "code",
      "execution_count": 37,
      "metadata": {
        "id": "VCsch29K5Tq6"
      },
      "outputs": [],
      "source": [
        "from sklearn.feature_extraction.text import CountVectorizer, TfidfVectorizer\n",
        "from sklearn.model_selection import StratifiedKFold"
      ]
    },
    {
      "cell_type": "code",
      "execution_count": 38,
      "metadata": {
        "id": "OAKazHHUBZ-P"
      },
      "outputs": [],
      "source": [
        "df[\"kfold\"] = -1\n",
        "\n",
        "y = df.is_sarcastic.values"
      ]
    },
    {
      "cell_type": "code",
      "execution_count": 39,
      "metadata": {
        "id": "r9vj1fljBdau"
      },
      "outputs": [],
      "source": [
        "# init kfold instance\n",
        "kfold = StratifiedKFold(shuffle=True, random_state=42)\n",
        "for fold_, (train_rows, test_rows) in enumerate(kfold.split(X=df, y=y)):\n",
        "    df.loc[test_rows, \"kfold\"] = fold_"
      ]
    },
    {
      "cell_type": "code",
      "execution_count": 40,
      "metadata": {
        "colab": {
          "base_uri": "https://localhost:8080/",
          "height": 337
        },
        "id": "L2FGMxK2CG7F",
        "outputId": "68e0eb52-7e00-490e-ab6e-e78e2ceae4e3"
      },
      "outputs": [
        {
          "data": {
            "text/html": [
              "<div>\n",
              "<style scoped>\n",
              "    .dataframe tbody tr th:only-of-type {\n",
              "        vertical-align: middle;\n",
              "    }\n",
              "\n",
              "    .dataframe tbody tr th {\n",
              "        vertical-align: top;\n",
              "    }\n",
              "\n",
              "    .dataframe thead th {\n",
              "        text-align: right;\n",
              "    }\n",
              "</style>\n",
              "<table border=\"1\" class=\"dataframe\">\n",
              "  <thead>\n",
              "    <tr style=\"text-align: right;\">\n",
              "      <th></th>\n",
              "      <th>is_sarcastic</th>\n",
              "      <th>headline</th>\n",
              "      <th>article_link</th>\n",
              "      <th>char_len</th>\n",
              "      <th>tokens_count</th>\n",
              "      <th>avg_word_len</th>\n",
              "      <th>kfold</th>\n",
              "    </tr>\n",
              "  </thead>\n",
              "  <tbody>\n",
              "    <tr>\n",
              "      <th>0</th>\n",
              "      <td>1</td>\n",
              "      <td>thirtysomething scientists unveil doomsday clo...</td>\n",
              "      <td>https://www.theonion.com/thirtysomething-scien...</td>\n",
              "      <td>61</td>\n",
              "      <td>8</td>\n",
              "      <td>6.750000</td>\n",
              "      <td>3</td>\n",
              "    </tr>\n",
              "    <tr>\n",
              "      <th>1</th>\n",
              "      <td>0</td>\n",
              "      <td>dem rep. totally nails why congress is falling...</td>\n",
              "      <td>https://www.huffingtonpost.com/entry/donna-edw...</td>\n",
              "      <td>79</td>\n",
              "      <td>13</td>\n",
              "      <td>5.153846</td>\n",
              "      <td>2</td>\n",
              "    </tr>\n",
              "    <tr>\n",
              "      <th>2</th>\n",
              "      <td>0</td>\n",
              "      <td>eat your veggies: 9 deliciously different recipes</td>\n",
              "      <td>https://www.huffingtonpost.com/entry/eat-your-...</td>\n",
              "      <td>49</td>\n",
              "      <td>7</td>\n",
              "      <td>6.142857</td>\n",
              "      <td>4</td>\n",
              "    </tr>\n",
              "    <tr>\n",
              "      <th>3</th>\n",
              "      <td>1</td>\n",
              "      <td>inclement weather prevents liar from getting t...</td>\n",
              "      <td>https://local.theonion.com/inclement-weather-p...</td>\n",
              "      <td>52</td>\n",
              "      <td>8</td>\n",
              "      <td>5.625000</td>\n",
              "      <td>2</td>\n",
              "    </tr>\n",
              "    <tr>\n",
              "      <th>4</th>\n",
              "      <td>1</td>\n",
              "      <td>mother comes pretty close to using word 'strea...</td>\n",
              "      <td>https://www.theonion.com/mother-comes-pretty-c...</td>\n",
              "      <td>61</td>\n",
              "      <td>9</td>\n",
              "      <td>5.888889</td>\n",
              "      <td>1</td>\n",
              "    </tr>\n",
              "  </tbody>\n",
              "</table>\n",
              "</div>"
            ],
            "text/plain": [
              "   is_sarcastic                                           headline  \\\n",
              "0             1  thirtysomething scientists unveil doomsday clo...   \n",
              "1             0  dem rep. totally nails why congress is falling...   \n",
              "2             0  eat your veggies: 9 deliciously different recipes   \n",
              "3             1  inclement weather prevents liar from getting t...   \n",
              "4             1  mother comes pretty close to using word 'strea...   \n",
              "\n",
              "                                        article_link  char_len  tokens_count  \\\n",
              "0  https://www.theonion.com/thirtysomething-scien...        61             8   \n",
              "1  https://www.huffingtonpost.com/entry/donna-edw...        79            13   \n",
              "2  https://www.huffingtonpost.com/entry/eat-your-...        49             7   \n",
              "3  https://local.theonion.com/inclement-weather-p...        52             8   \n",
              "4  https://www.theonion.com/mother-comes-pretty-c...        61             9   \n",
              "\n",
              "   avg_word_len  kfold  \n",
              "0      6.750000      3  \n",
              "1      5.153846      2  \n",
              "2      6.142857      4  \n",
              "3      5.625000      2  \n",
              "4      5.888889      1  "
            ]
          },
          "execution_count": 40,
          "metadata": {},
          "output_type": "execute_result"
        }
      ],
      "source": [
        "df.head()"
      ]
    },
    {
      "cell_type": "code",
      "execution_count": 41,
      "metadata": {
        "id": "gUmVe982Cwe-"
      },
      "outputs": [],
      "source": [
        "from sklearn.linear_model import LogisticRegression\n",
        "from sklearn.ensemble import RandomForestClassifier\n",
        "from sklearn.metrics import accuracy_score"
      ]
    },
    {
      "cell_type": "code",
      "execution_count": 42,
      "metadata": {
        "colab": {
          "base_uri": "https://localhost:8080/"
        },
        "id": "E7H2PVarCH2l",
        "outputId": "38eec51e-c56d-49bb-843c-2341ef73204a"
      },
      "outputs": [
        {
          "name": "stdout",
          "output_type": "stream",
          "text": [
            "Fold: 0\n",
            "Accuracy: 0.8478336827393431\n",
            "Fold: 1\n",
            "Accuracy: 0.839622641509434\n",
            "Fold: 2\n",
            "Accuracy: 0.8542976939203354\n",
            "Fold: 3\n",
            "Accuracy: 0.8422431865828093\n",
            "Fold: 4\n",
            "Accuracy: 0.8430892888345274\n"
          ]
        }
      ],
      "source": [
        "for fold_ in range(5):\n",
        "    df_train = df[df.kfold != fold_].reset_index(drop=True)\n",
        "    df_test = df[df.kfold == fold_].reset_index(drop=True)\n",
        "\n",
        "    count_vec = CountVectorizer()\n",
        "    count_vec.fit(df_train.headline)\n",
        "\n",
        "    xtrain = count_vec.transform(df_train.headline)\n",
        "    xtest = count_vec.transform(df_test.headline)\n",
        "\n",
        "    lr = LogisticRegression()\n",
        "    lr.fit(xtrain, df_train.is_sarcastic)\n",
        "    preds = lr.predict(xtest)\n",
        "\n",
        "    # rf = RandomForestClassifier()\n",
        "    # rf.fit(xtrain, df_train.is_sarcastic)\n",
        "    # preds = rf.predict(xtest)\n",
        "\n",
        "\n",
        "    # print(preds)\n",
        "\n",
        "    acc = accuracy_score(df_test.is_sarcastic, preds)\n",
        "\n",
        "    print(f\"Fold: {fold_}\")\n",
        "    print(f\"Accuracy: {acc}\")\n"
      ]
    },
    {
      "cell_type": "code",
      "execution_count": null,
      "metadata": {
        "id": "UEgihenkEfn3"
      },
      "outputs": [],
      "source": []
    }
  ],
  "metadata": {
    "colab": {
      "authorship_tag": "ABX9TyPMDXoxAp4Tn2ocEmZDPH0f",
      "collapsed_sections": [],
      "include_colab_link": true,
      "name": "NLPTextClassification.ipynb",
      "provenance": []
    },
    "kernelspec": {
      "display_name": "Python 3",
      "name": "python3"
    },
    "language_info": {
      "codemirror_mode": {
        "name": "ipython",
        "version": 3
      },
      "file_extension": ".py",
      "mimetype": "text/x-python",
      "name": "python",
      "nbconvert_exporter": "python",
      "pygments_lexer": "ipython3",
      "version": "3.8.10"
    }
  },
  "nbformat": 4,
  "nbformat_minor": 0
}
